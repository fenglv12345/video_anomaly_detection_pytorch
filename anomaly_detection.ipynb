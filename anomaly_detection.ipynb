{
 "cells": [
  {
   "cell_type": "code",
   "execution_count": 1,
   "metadata": {},
   "outputs": [],
   "source": [
    "import torch\n",
    "import torch.nn as nn\n",
    "from convolution_lstm import ConvLSTMCell, ConvLSTM\n",
    "from collections import OrderedDict"
   ]
  },
  {
   "cell_type": "code",
   "execution_count": null,
   "metadata": {},
   "outputs": [],
   "source": [
    "convlstm = ConvLSTM(input_channels=10, hidden_channels=[6, 6, 6], kernel_size=3, batch_first=True)\n",
    "loss_fn = torch.nn.MSELoss()\n",
    "\n",
    "input = torch.randn(1, 3, 10, 5, 5)\n",
    "target = torch.randn(1, 3, 6, 5, 5).double()\n",
    "\n",
    "output, _ = convlstm(input)\n",
    "output = output.double()\n",
    "res = torch.autograd.gradcheck(loss_fn, (output, target), eps=1e-6, raise_exception=True)\n",
    "print(res)"
   ]
  },
  {
   "cell_type": "code",
   "execution_count": null,
   "metadata": {},
   "outputs": [],
   "source": [
    "output.size()"
   ]
  },
  {
   "cell_type": "code",
   "execution_count": 4,
   "metadata": {},
   "outputs": [],
   "source": [
    "class VideoAutoencoderLSTM(nn.Module):\n",
    "    def __init__(self, in_channels=1):\n",
    "        super(VideoAutoencoderLSTM, self).__init__()\n",
    "        self.in_channels = in_channels\n",
    "        self.conv_encoder = nn.Sequential(OrderedDict([\n",
    "              ('conv1', nn.Conv2d(in_channels=self.in_channels, out_channels=128, kernel_size=11,stride=4, padding=0)),\n",
    "              ('nonl1', nn.Tanh()),\n",
    "              ('conv2', nn.Conv2d(in_channels=128, out_channels=64, kernel_size=5,stride=2, padding=0)),\n",
    "              ('nonl2', nn.Tanh())\n",
    "            ]))\n",
    "        self.rnn_enc_dec = ConvLSTM(input_channels=64, hidden_channels=[64, 32, 64], kernel_size=3, batch_first=True)\n",
    "        self.conv_decoder = nn.Sequential(OrderedDict([\n",
    "              ('deconv1', nn.ConvTranspose2d(in_channels=64, out_channels=128, kernel_size=5,stride=2, padding=0)),\n",
    "              ('nonl1', nn.Tanh()),\n",
    "              ('deconv2', nn.ConvTranspose2d(in_channels=128, out_channels=self.in_channels, kernel_size=11,stride=4, padding=0)),\n",
    "              ('nonl2', nn.Tanh())\n",
    "            ]))\n",
    "    \n",
    "    def forward(self, x):\n",
    "        b, t, c, h, w = x.size()\n",
    "        x = x.view(b*t,c,h,w)\n",
    "        x = self.conv_encoder(x)\n",
    "        x = x.view(b, t, x.size(1), x.size(2), x.size(3))\n",
    "        x, _ = self.rnn_enc_dec(x)\n",
    "        x = x.view(b*t, x.size(2), x.size(3), x.size(4))\n",
    "        x = self.conv_decoder(x)\n",
    "        x = x.view(b, t, x.size(2), x.size(3), x.size(4))\n",
    "        return x"
   ]
  },
  {
   "cell_type": "code",
   "execution_count": 5,
   "metadata": {},
   "outputs": [
    {
     "name": "stdout",
     "output_type": "stream",
     "text": [
      "torch.Size([5, 1, 227, 227])\n",
      "torch.Size([5, 64, 26, 26])\n",
      "torch.Size([1, 5, 64, 26, 26])\n",
      "torch.Size([1, 5, 64, 26, 26])\n",
      "torch.Size([5, 64, 26, 26])\n",
      "torch.Size([5, 1, 227, 227])\n",
      "torch.Size([1, 5, 1, 227, 227])\n",
      "True\n"
     ]
    }
   ],
   "source": [
    "model = VideoAutoencoderLSTM()\n",
    "loss_fn = torch.nn.MSELoss()\n",
    "\n",
    "input = torch.randn(1, 5, 1, 227, 227)\n",
    "target = torch.randn(1, 5, 1, 227, 227).double()\n",
    "\n",
    "output= model(input)\n",
    "output = output.double()\n",
    "res = torch.autograd.gradcheck(loss_fn, (output, target), eps=1e-6, raise_exception=True)\n",
    "print(res)"
   ]
  },
  {
   "cell_type": "markdown",
   "metadata": {},
   "source": [
    "        model.add(Conv3D(filters=128,kernel_size=(11,11,1),strides=(4,4,1),padding='valid',input_shape=(227,227,10,1),activation='tanh'))\n",
    "\tmodel.add(Conv3D(filters=64,kernel_size=(5,5,1),strides=(2,2,1),padding='valid',activation='tanh'))\n",
    "\n",
    "\n",
    "\n",
    "\tmodel.add(ConvLSTM2D(filters=64,kernel_size=(3,3),strides=1,padding='same',dropout=0.4,recurrent_dropout=0.3,return_sequences=True))\n",
    "\n",
    "\t\n",
    "\tmodel.add(ConvLSTM2D(filters=32,kernel_size=(3,3),strides=1,padding='same',dropout=0.3,return_sequences=True))\n",
    "\n",
    "\n",
    "\tmodel.add(ConvLSTM2D(filters=64,kernel_size=(3,3),strides=1,return_sequences=True, padding='same',dropout=0.5))\n",
    "    \tmodel.add(Conv3DTranspose(filters=128,kernel_size=(5,5,1),strides=(2,2,1),padding='valid',activation='tanh'))\n",
    "\tmodel.add(Conv3DTranspose(filters=1,kernel_size=(11,11,1),strides=(4,4,1),padding='valid',activation='tanh'))\n",
    "\n",
    "\tmodel.compile(optimizer='adam',loss='mean_squared_error',metrics=['accuracy'])\n",
    "    \n",
    "    http://www.svcl.ucsd.edu/projects/anomaly/dataset.htm\n",
    "    https://github.com/blackeagle01/Abnormal_Event_Detection/blob/master/train.py"
   ]
  },
  {
   "cell_type": "code",
   "execution_count": 1,
   "metadata": {},
   "outputs": [
    {
     "name": "stdout",
     "output_type": "stream",
     "text": [
      "<PIL.Image.Image image mode=RGB size=238x158 at 0x7FE6C1723CF8>\n"
     ]
    }
   ],
   "source": [
    "from PIL import Image\n",
    "\n",
    "img = Image.open(open('./data/UCSD_Anomaly_Dataset.v1p2/UCSDped1/Train/Train001/001.tif', 'rb'))\n",
    "img = img.convert('RGB')\n",
    "print(img)"
   ]
  },
  {
   "cell_type": "code",
   "execution_count": null,
   "metadata": {},
   "outputs": [],
   "source": []
  }
 ],
 "metadata": {
  "kernelspec": {
   "display_name": "Python 3",
   "language": "python",
   "name": "python3"
  },
  "language_info": {
   "codemirror_mode": {
    "name": "ipython",
    "version": 3
   },
   "file_extension": ".py",
   "mimetype": "text/x-python",
   "name": "python",
   "nbconvert_exporter": "python",
   "pygments_lexer": "ipython3",
   "version": "3.7.3"
  }
 },
 "nbformat": 4,
 "nbformat_minor": 2
}
